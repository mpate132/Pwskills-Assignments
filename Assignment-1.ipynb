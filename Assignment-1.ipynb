{
 "cells": [
  {
   "cell_type": "code",
   "execution_count": 1,
   "id": "20869903-fb18-4414-a2dc-fc3c1b8a3a18",
   "metadata": {},
   "outputs": [],
   "source": [
    "q1 = \"Who developed Python Programming Language?\""
   ]
  },
  {
   "cell_type": "code",
   "execution_count": 2,
   "id": "e2331e48-7c03-4e39-907e-c49221c2823c",
   "metadata": {},
   "outputs": [],
   "source": [
    "a1 = \"Guido Van Rossum developed Python Language.\""
   ]
  },
  {
   "cell_type": "code",
   "execution_count": 3,
   "id": "ee4f3aea-9b8e-45dd-8a1c-f45034c1bc8f",
   "metadata": {},
   "outputs": [],
   "source": [
    "q2 =  \"Which type of Programming does Python support?\" "
   ]
  },
  {
   "cell_type": "code",
   "execution_count": 4,
   "id": "d27255d9-e2a6-4928-9802-e094658d74ae",
   "metadata": {},
   "outputs": [],
   "source": [
    "a2 = \"Python supports imperative, functional, procedural and object-oriented programming.\""
   ]
  },
  {
   "cell_type": "code",
   "execution_count": 5,
   "id": "22299406-3227-430d-8136-2ab27beb4340",
   "metadata": {},
   "outputs": [],
   "source": [
    "q3 = \"Is Python case sensitive when dealing with identifiers?\""
   ]
  },
  {
   "cell_type": "code",
   "execution_count": 6,
   "id": "0a968cee-9c56-4dda-bb86-7894326379ca",
   "metadata": {},
   "outputs": [],
   "source": [
    "a3 = \"Yes, Python is a case-sensitive language, i.e., it treats uppercase and lowercase characters differently.\""
   ]
  },
  {
   "cell_type": "code",
   "execution_count": 7,
   "id": "bf4ac3af-e5ca-42ba-95f2-41e6e7461440",
   "metadata": {},
   "outputs": [],
   "source": [
    "q4 = \" What is the correct extension of the Python file?\""
   ]
  },
  {
   "cell_type": "code",
   "execution_count": 8,
   "id": "5e9d18b4-10a4-43e0-a396-c88704ed5099",
   "metadata": {},
   "outputs": [],
   "source": [
    "a4 = \".py is correct extension of the python file.\""
   ]
  },
  {
   "cell_type": "code",
   "execution_count": 9,
   "id": "a13f74d6-3256-4766-b5da-c5a3c269b8dd",
   "metadata": {},
   "outputs": [],
   "source": [
    "q5 = \"Is Python code compiled or interpreted?\""
   ]
  },
  {
   "cell_type": "code",
   "execution_count": 10,
   "id": "77ae7c20-1df7-420e-bbb2-658d2a30ee28",
   "metadata": {},
   "outputs": [],
   "source": [
    "a5 = \"Python code is interpreted using interpreter.\""
   ]
  },
  {
   "cell_type": "code",
   "execution_count": 11,
   "id": "0b00732b-e63d-4ac0-bb9e-7db44e8cfbc2",
   "metadata": {},
   "outputs": [],
   "source": [
    "q6 = \"Name a few blocks of code used to define in Python language?\""
   ]
  },
  {
   "cell_type": "code",
   "execution_count": 12,
   "id": "7d9ced7e-3e32-47d0-b261-fe8ff5727c48",
   "metadata": {},
   "outputs": [],
   "source": [
    "a6 = \"Examples are function, classes, loops and conditional statements.\""
   ]
  },
  {
   "cell_type": "code",
   "execution_count": 13,
   "id": "db14252b-ee27-4af6-97f1-7478d0b35259",
   "metadata": {},
   "outputs": [],
   "source": [
    "q7 = \"State a character used to give single-line comments in Python?\""
   ]
  },
  {
   "cell_type": "code",
   "execution_count": 14,
   "id": "3455f9fc-3190-4508-9b2f-82acdcfe8c0e",
   "metadata": {},
   "outputs": [],
   "source": [
    "a7 = \"# is used to give the single line comment in python.\""
   ]
  },
  {
   "cell_type": "code",
   "execution_count": 15,
   "id": "3e48baf3-4f30-4ae0-a8a6-1ad3b0bb310f",
   "metadata": {},
   "outputs": [],
   "source": [
    "q8 = \"Mention functions which can help us to find the version of python that we are currently working on?\""
   ]
  },
  {
   "cell_type": "code",
   "execution_count": 16,
   "id": "4d4cc2ef-3d61-401f-9ee7-5dac97a36e14",
   "metadata": {},
   "outputs": [],
   "source": [
    "a8 = '''sys.version can be used to get the current version we are working on with python and platform.python.version()\n",
    "    is also used to get the current version of it.'''"
   ]
  },
  {
   "cell_type": "code",
   "execution_count": 17,
   "id": "5608f165-90b0-4de5-9389-790f5fdcb02a",
   "metadata": {},
   "outputs": [],
   "source": [
    "q9 = \"Python supports the creation of anonymous functions at runtime, using a construct called?\""
   ]
  },
  {
   "cell_type": "code",
   "execution_count": 18,
   "id": "98874fc1-3fbe-496f-b773-059668e61a38",
   "metadata": {},
   "outputs": [],
   "source": [
    "a9 = \"Lambda Function.\""
   ]
  },
  {
   "cell_type": "code",
   "execution_count": 19,
   "id": "8195624f-9b4c-418c-a5eb-4e466d0c7d8d",
   "metadata": {},
   "outputs": [],
   "source": [
    "q10 = \"What does pip stand for python??\""
   ]
  },
  {
   "cell_type": "code",
   "execution_count": 20,
   "id": "41e3e499-54e8-4b60-af26-c9b35b9d26fc",
   "metadata": {},
   "outputs": [],
   "source": [
    "a10 = \"pip stands for preffered installer program or Pip installs packages\""
   ]
  },
  {
   "cell_type": "code",
   "execution_count": 21,
   "id": "51fcdafe-aa2f-428f-9b4f-829a54cb4695",
   "metadata": {},
   "outputs": [],
   "source": [
    "q11 = \"Mention a few built-in functions in python?\""
   ]
  },
  {
   "cell_type": "code",
   "execution_count": 22,
   "id": "ddeb7568-c018-4988-9e9c-4ec9d29669b2",
   "metadata": {},
   "outputs": [],
   "source": [
    "a11 = \"print(), len(), type() and sum() etc.\""
   ]
  },
  {
   "cell_type": "code",
   "execution_count": 25,
   "id": "f37a05b8-a3ee-4c65-b58c-a2d90be02df2",
   "metadata": {},
   "outputs": [],
   "source": [
    "q12 = \"What is the maximum possible length of an identifier in Python?\""
   ]
  },
  {
   "cell_type": "code",
   "execution_count": 29,
   "id": "83712152-ee28-44a7-804f-bf0f638f08c2",
   "metadata": {},
   "outputs": [],
   "source": [
    "a12 = '''In Python, the maximum length of an identifier is unlimited. However, there is a practical limit to the length of an identifier\n",
    ", determined by the underlying operating system and the amount of memory available.'''"
   ]
  },
  {
   "cell_type": "code",
   "execution_count": 27,
   "id": "596651a4-79d9-4401-a8b2-da9bedd6752e",
   "metadata": {},
   "outputs": [],
   "source": [
    "q13 = \"What are the benefits of using Python?\""
   ]
  },
  {
   "cell_type": "code",
   "execution_count": 33,
   "id": "d581fdcc-97cd-4def-abe4-87cee9d9e0fe",
   "metadata": {},
   "outputs": [],
   "source": [
    "a13 = \"It is easy to learn and use, versatility, large community, plenty of libraries and modules, Dynamic typing.\""
   ]
  },
  {
   "cell_type": "code",
   "execution_count": 30,
   "id": "c137c8aa-2d70-4736-b640-44e6fabc4247",
   "metadata": {},
   "outputs": [],
   "source": [
    "q14 = \"How is memory managed in Python?\""
   ]
  },
  {
   "cell_type": "code",
   "execution_count": 31,
   "id": "3d2231b4-d100-476e-8018-7ca6d87e4520",
   "metadata": {},
   "outputs": [],
   "source": [
    "a14 ='''Memory in Python is managed by the Python memory manager, which is responsible for allocating and freeing memory as needed. The Python memory manager works with the Python garbage collector, which automatically collects and frees memory that is no longer in use.\n",
    "'''"
   ]
  },
  {
   "cell_type": "code",
   "execution_count": 34,
   "id": "6884318a-951a-41b2-a327-424d1c2c45d2",
   "metadata": {},
   "outputs": [],
   "source": [
    "q15 = \"How to install Python on Windows and set path variables? 16. Is indentation required in python?\""
   ]
  },
  {
   "cell_type": "code",
   "execution_count": 35,
   "id": "39d9a89f-f698-4042-9e63-13add9813ace",
   "metadata": {},
   "outputs": [],
   "source": [
    "a15 = '''Installing Python on Windows:\n",
    "\n",
    "Go to the official Python website (python.org) and download the latest version of Python for Windows.\n",
    "Run the installer and follow the instructions to complete the installation process.\n",
    "By default, Python will be installed to the C:\\PythonXX directory (where XX is the version number).\n",
    "Setting the Path Variables:\n",
    "\n",
    "Go to the Start menu and search for \"Environment Variables\".\n",
    "Click on \"Edit the system environment variables\".\n",
    "In the System Properties window, click on the \"Environment Variables\" button.\n",
    "Under \"System Variables\", scroll down and find the \"Path\" variable, then click on \"Edit\".\n",
    "Add the path to the Python installation directory (e.g. C:\\PythonXX\\) to the end of the Path variable.\n",
    "\n",
    "Yes, Indentation is required in Python language.'''"
   ]
  },
  {
   "cell_type": "code",
   "execution_count": null,
   "id": "4a8e46c2-36a4-4bd4-a560-e5fbb591beeb",
   "metadata": {},
   "outputs": [],
   "source": []
  }
 ],
 "metadata": {
  "kernelspec": {
   "display_name": "Python 3 (ipykernel)",
   "language": "python",
   "name": "python3"
  },
  "language_info": {
   "codemirror_mode": {
    "name": "ipython",
    "version": 3
   },
   "file_extension": ".py",
   "mimetype": "text/x-python",
   "name": "python",
   "nbconvert_exporter": "python",
   "pygments_lexer": "ipython3",
   "version": "3.10.8"
  }
 },
 "nbformat": 4,
 "nbformat_minor": 5
}
